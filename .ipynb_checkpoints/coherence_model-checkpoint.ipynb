{
 "cells": [
  {
   "cell_type": "code",
   "execution_count": null,
   "metadata": {},
   "outputs": [],
   "source": [
    "# -*- coding: utf-8 -*-\n",
    "\"\"\"\n",
    "Created on Mon Jun 15 15:23:51 2020\n",
    "\n",
    "@author: cvicentm\n",
    "\"\"\"\n",
    "import pickle\n",
    "from gensim.models import CoherenceModel\n",
    "from modules.sql import dBAdapter\n",
    "\n",
    "n_documents = 4992\n",
    "n_topics = 37\n",
    "\n",
    "\n",
    "print(\"Getting body subtitles from the database started ...\")\n",
    "dbAdapter= dBAdapter.Database()\n",
    "dbAdapter.open()\n",
    "listado=dbAdapter.selectGenerator_normalize_limit(n_documents)\n",
    "dic_subtitles = dict(dbAdapter.selectDic_subtitles_limit(n_documents))\n",
    "dbAdapter.close()\n",
    "print(\"finalizada consulta\")\n",
    "\n",
    "generator_normalize = []\n",
    "for l in listado:\n",
    "    generator_normalize.append(l[0].split(\",\"))\n",
    "for gn in generator_normalize:\n",
    "    while True:\n",
    "        try:\n",
    "            gn.remove(\"\")\n",
    "        except ValueError:\n",
    "            break\n",
    "print(\"Getting body subtitles from the database finished ...\")\n",
    "\n",
    "id2word = pickle.load(open(\"pickle\\\\\"+str(n_documents)+\"\\id2word_\"+str(n_documents)+\".txt\", \"rb\"))\n",
    "print(\"id2word cargado\")\n",
    "corpus = pickle.load(open(\"pickle\\\\\"+str(n_documents)+\"\\corpus_\"+str(n_documents)+\".txt\", \"rb\"))\n",
    "print(\"corpus cargado\")\n",
    "file_lda_model = 'pickle\\\\'+str(n_documents)+'\\lda_model_'+str(n_topics)+'_'+str(n_documents)+'.sav'         \n",
    "f=open(file_lda_model, 'rb')\n",
    "lda = pickle.load(f)\n",
    "print(\"lda cargado\")\n",
    "\n",
    "\n",
    "coherencemodel = CoherenceModel(model=lda, texts=generator_normalize, dictionary=id2word, coherence='c_v')\n",
    "coherence_values = coherencemodel.get_coherence()\n",
    "print(coherence_values)"
   ]
  }
 ],
 "metadata": {
  "kernelspec": {
   "display_name": "Python 3",
   "language": "python",
   "name": "python3"
  },
  "language_info": {
   "codemirror_mode": {
    "name": "ipython",
    "version": 3
   },
   "file_extension": ".py",
   "mimetype": "text/x-python",
   "name": "python",
   "nbconvert_exporter": "python",
   "pygments_lexer": "ipython3",
   "version": "3.7.4"
  }
 },
 "nbformat": 4,
 "nbformat_minor": 4
}
